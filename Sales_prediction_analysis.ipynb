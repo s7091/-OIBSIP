{
  "nbformat": 4,
  "nbformat_minor": 0,
  "metadata": {
    "colab": {
      "private_outputs": true,
      "provenance": [],
      "authorship_tag": "ABX9TyPmqN0op9C+RrHP8Wk4qL6W",
      "include_colab_link": true
    },
    "kernelspec": {
      "name": "python3",
      "display_name": "Python 3"
    },
    "language_info": {
      "name": "python"
    }
  },
  "cells": [
    {
      "cell_type": "markdown",
      "metadata": {
        "id": "view-in-github",
        "colab_type": "text"
      },
      "source": [
        "<a href=\"https://colab.research.google.com/github/s7091/-OIBSIP/blob/main/Sales_prediction_analysis.ipynb\" target=\"_parent\"><img src=\"https://colab.research.google.com/assets/colab-badge.svg\" alt=\"Open In Colab\"/></a>"
      ]
    },
    {
      "cell_type": "code",
      "execution_count": null,
      "metadata": {
        "id": "gdgIHe_irbsu"
      },
      "outputs": [],
      "source": [
        "import pandas as pd\n",
        "import numpy as np\n",
        "\n",
        "# for data visualisation\n",
        "import matplotlib.pyplot as plt\n",
        "import seaborn as sns\n",
        "\n",
        "import warnings\n",
        "warnings.filterwarnings(\"ignore\")"
      ]
    },
    {
      "cell_type": "code",
      "source": [
        "df = pd.read_csv(\"Advertising.csv\")"
      ],
      "metadata": {
        "id": "Du87-zI3rkSW"
      },
      "execution_count": null,
      "outputs": []
    },
    {
      "cell_type": "code",
      "source": [
        "df.head()"
      ],
      "metadata": {
        "id": "WzwKsv6ZsE3X"
      },
      "execution_count": null,
      "outputs": []
    },
    {
      "cell_type": "code",
      "source": [
        "df.shape"
      ],
      "metadata": {
        "id": "tctu76_VsPHL"
      },
      "execution_count": null,
      "outputs": []
    },
    {
      "cell_type": "code",
      "source": [
        "df.columns"
      ],
      "metadata": {
        "id": "Uvo7F5KmsRqY"
      },
      "execution_count": null,
      "outputs": []
    },
    {
      "cell_type": "code",
      "source": [
        "df.dtypes"
      ],
      "metadata": {
        "id": "aBaLInJgsWU-"
      },
      "execution_count": null,
      "outputs": []
    },
    {
      "cell_type": "code",
      "source": [
        "df.isnull().sum()"
      ],
      "metadata": {
        "id": "jh7R_eXAscPS"
      },
      "execution_count": null,
      "outputs": []
    },
    {
      "cell_type": "code",
      "source": [
        "df.info()"
      ],
      "metadata": {
        "id": "eF95EmMlsg8Z"
      },
      "execution_count": null,
      "outputs": []
    },
    {
      "cell_type": "code",
      "source": [
        "df1 = df.drop(columns=[\"Unnamed: 0\"])"
      ],
      "metadata": {
        "id": "r8Z34zLQsle2"
      },
      "execution_count": null,
      "outputs": []
    },
    {
      "cell_type": "code",
      "source": [
        "df1.describe()"
      ],
      "metadata": {
        "id": "nC5lQjSfsqmK"
      },
      "execution_count": null,
      "outputs": []
    },
    {
      "cell_type": "code",
      "source": [
        "plt.figure(figsize=(10,6))\n",
        "corr = df1.corr()\n",
        "sns.heatmap(corr, annot = True)"
      ],
      "metadata": {
        "id": "EzjYT6oFsuRv"
      },
      "execution_count": null,
      "outputs": []
    },
    {
      "cell_type": "code",
      "source": [
        "def distplots(col):\n",
        "    sns.distplot(df1[col])\n",
        "    plt.show()\n",
        "\n",
        "for i in list(df1.select_dtypes(exclude = ['object']).columns)[0:]:\n",
        "    distplots(i)"
      ],
      "metadata": {
        "id": "PlHMJC2Wsyrv"
      },
      "execution_count": null,
      "outputs": []
    },
    {
      "cell_type": "code",
      "source": [
        "#Outliers Detection & Remove\n",
        "def boxf(col):\n",
        "    sns.boxplot(df1[col])\n",
        "    plt.show()\n",
        "\n",
        "for i in list(df1.select_dtypes(exclude = ['object']).columns)[0:]:\n",
        "    boxf(i)"
      ],
      "metadata": {
        "id": "IU3RIwEKs7p6"
      },
      "execution_count": null,
      "outputs": []
    },
    {
      "cell_type": "code",
      "source": [
        "sns.pairplot(data = df1,x_vars=[\"TV\", \"Radio\", \"Newspaper\"], y_vars=\"Sales\", kind=\"reg\",palette=\"pastel\")\n",
        "plt.show()"
      ],
      "metadata": {
        "id": "0phzzNscs84d"
      },
      "execution_count": null,
      "outputs": []
    },
    {
      "cell_type": "code",
      "source": [
        "X = df1.drop('Sales', axis=1)\n",
        "y = df1['Sales']"
      ],
      "metadata": {
        "id": "BUnmoHt7tFnR"
      },
      "execution_count": null,
      "outputs": []
    },
    {
      "cell_type": "code",
      "source": [
        "X.head()"
      ],
      "metadata": {
        "id": "4x9wtQpptJyd"
      },
      "execution_count": null,
      "outputs": []
    },
    {
      "cell_type": "code",
      "source": [
        "y.head()"
      ],
      "metadata": {
        "id": "_6ER1V1WtQgL"
      },
      "execution_count": null,
      "outputs": []
    },
    {
      "cell_type": "code",
      "source": [
        "#test size 20% and train size 80%\n",
        "from sklearn.model_selection import train_test_split\n",
        "from sklearn.metrics import accuracy_score\n",
        "X_train, X_test, y_train, y_test = train_test_split(X,y, test_size=0.2,random_state=42)"
      ],
      "metadata": {
        "id": "0xOfPLnvtVnI"
      },
      "execution_count": null,
      "outputs": []
    },
    {
      "cell_type": "code",
      "source": [
        "print(X_train.shape)\n",
        "print(X_test.shape)\n",
        "print(y_train.shape)\n",
        "print(y_test.shape)"
      ],
      "metadata": {
        "id": "JUuA_cTUtW2m"
      },
      "execution_count": null,
      "outputs": []
    },
    {
      "cell_type": "code",
      "source": [
        "from sklearn.linear_model import LinearRegression\n",
        "regressor = LinearRegression()\n",
        "regressor.fit(X_train, y_train)"
      ],
      "metadata": {
        "id": "Bljj-EqLtcE2"
      },
      "execution_count": null,
      "outputs": []
    },
    {
      "cell_type": "code",
      "source": [
        "# print the intercept\n",
        "print(regressor.intercept_)"
      ],
      "metadata": {
        "id": "MNVFqXdHtjVb"
      },
      "execution_count": null,
      "outputs": []
    },
    {
      "cell_type": "code",
      "source": [
        "y_pred = regressor.predict(X_test)\n",
        "y_pred"
      ],
      "metadata": {
        "id": "na0LdfYYtoSc"
      },
      "execution_count": null,
      "outputs": []
    },
    {
      "cell_type": "code",
      "source": [
        "# Visualize the model's predictions\n",
        "plt.figure(figsize=(8, 6))\n",
        "plt.scatter(y_test, y_pred, c='green', label='Actual vs. Predicted Sales')\n",
        "plt.plot([min(y_test), max(y_test)], [min(y_test), max(y_test)], linestyle='--', color='red', linewidth=2, label='Perfect Fit')\n",
        "plt.xlabel(\"Actual Sales\")\n",
        "plt.ylabel(\"Predicted Sales\")\n",
        "plt.title(\"Actual Sales vs. Predicted Sales\")\n",
        "plt.legend(loc='upper left')\n",
        "plt.grid(True)\n",
        "plt.show()"
      ],
      "metadata": {
        "id": "6wNVtLMEttI0"
      },
      "execution_count": null,
      "outputs": []
    },
    {
      "cell_type": "code",
      "source": [
        "from sklearn import metrics\n",
        "from sklearn.metrics import mean_absolute_percentage_error\n",
        "import math\n",
        "\n",
        "mae = metrics.mean_absolute_error(y_test, y_pred)\n",
        "mape = mean_absolute_percentage_error(y_test, y_pred)\n",
        "mse = metrics.mean_squared_error(y_test, y_pred)\n",
        "r2 = metrics.r2_score(y_test, y_pred)\n",
        "rmse = math.sqrt(mse)\n",
        "\n",
        "print('MAE is {}'.format(mae))\n",
        "print('MAPE is {}'.format(mape))\n",
        "print('MSE is {}'.format(mse))\n",
        "print('R2 score is {}'.format(r2))\n",
        "print('RMSE score is {}'.format(rmse))"
      ],
      "metadata": {
        "id": "MSL9dbwItu-S"
      },
      "execution_count": null,
      "outputs": []
    },
    {
      "cell_type": "code",
      "source": [
        "from sklearn.linear_model import LinearRegression\n",
        "model1 = LinearRegression()\n",
        "\n",
        "model1.fit(X_train, y_train)\n",
        "\n",
        "from sklearn.metrics import mean_squared_error,r2_score\n",
        "y_pred = model1.predict(X_test)\n",
        "mse = mean_squared_error(y_test, y_pred)\n",
        "rmse = np.sqrt(mse)\n",
        "r2 = r2_score(y_test, y_pred)\n",
        "\n",
        "print(f\"Mean Squared Error: {mse:.2f}\")\n",
        "print(f\"Root Mean Squared Error: {rmse:.2f}\")\n",
        "print(f\"R-squared: {r2:.2f}\")"
      ],
      "metadata": {
        "id": "gLKytAmEt5YM"
      },
      "execution_count": null,
      "outputs": []
    },
    {
      "cell_type": "code",
      "source": [
        "# define model\n",
        "from xgboost import XGBRegressor\n",
        "model2 = XGBRegressor()\n",
        "model2.fit(X_train, y_train)\n",
        "\n",
        "# Predict the model\n",
        "pred = model2.predict(X_test)\n",
        "\n",
        "# define model evaluation method\n",
        "from sklearn.model_selection import cross_val_score\n",
        "from sklearn.model_selection import RepeatedKFold\n",
        "cv = RepeatedKFold(n_splits=10, n_repeats=3, random_state=1)\n",
        "\n",
        "# evaluate model\n",
        "from sklearn.model_selection import cross_val_score\n",
        "from sklearn.model_selection import RepeatedKFold\n",
        "scores = cross_val_score(model1, X, y, scoring='neg_mean_absolute_error', cv=cv, n_jobs=-1)\n",
        "\n",
        "# force scores to be positive\n",
        "from numpy import absolute\n",
        "scores = absolute(scores)\n",
        "print('Mean MAE: %.3f (%.3f)' % (scores.mean(), scores.std()) )\n",
        "\n",
        "mae = metrics.mean_absolute_error(y_test, pred)\n",
        "mape = mean_absolute_percentage_error(y_test, pred)\n",
        "mse = metrics.mean_squared_error(y_test, pred)\n",
        "r2 = metrics.r2_score(y_test, pred)\n",
        "rmse = math.sqrt(mse)\n",
        "\n",
        "print('MAE is {}'.format(mae))\n",
        "print('MAPE is {}'.format(mape))\n",
        "print('MSE is {}'.format(mse))\n",
        "print('R2 score is {}'.format(r2))\n",
        "print('RMSE score is {}'.format(rmse))"
      ],
      "metadata": {
        "id": "nt3lca1BvKkT"
      },
      "execution_count": null,
      "outputs": []
    }
  ]
}